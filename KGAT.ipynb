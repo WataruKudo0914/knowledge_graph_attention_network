{
 "cells": [
  {
   "cell_type": "markdown",
   "metadata": {},
   "source": [
    "# Amazon-book"
   ]
  },
  {
   "cell_type": "code",
   "execution_count": 1,
   "metadata": {},
   "outputs": [
    {
     "name": "stderr",
     "output_type": "stream",
     "text": [
      "/home/ubuntu/anaconda3/lib/python3.6/site-packages/h5py/__init__.py:36: FutureWarning: Conversion of the second argument of issubdtype from `float` to `np.floating` is deprecated. In future, it will be treated as `np.float64 == np.dtype(float).type`.\n",
      "  from ._conv import register_converters as _register_converters\n"
     ]
    },
    {
     "name": "stdout",
     "output_type": "stream",
     "text": [
      "1.12.0\n",
      "1.15.4\n",
      "1.1.0\n",
      "0.20.0\n"
     ]
    },
    {
     "name": "stderr",
     "output_type": "stream",
     "text": [
      "/home/ubuntu/anaconda3/lib/python3.6/site-packages/matplotlib/__init__.py:1067: UserWarning: Duplicate key in file \"/home/ubuntu/.config/matplotlib/matplotlibrc\", line #2\n",
      "  (fname, cnt))\n",
      "/home/ubuntu/anaconda3/lib/python3.6/site-packages/matplotlib/__init__.py:1067: UserWarning: Duplicate key in file \"/home/ubuntu/.config/matplotlib/matplotlibrc\", line #3\n",
      "  (fname, cnt))\n"
     ]
    }
   ],
   "source": [
    "import tensorflow as tf\n",
    "print(tf.__version__)\n",
    "\n",
    "import numpy as np\n",
    "print(np.__version__)\n",
    "\n",
    "import scipy as sp\n",
    "print(sp.__version__)\n",
    "\n",
    "import sklearn\n",
    "print(sklearn.__version__)"
   ]
  },
  {
   "cell_type": "code",
   "execution_count": null,
   "metadata": {},
   "outputs": [],
   "source": []
  },
  {
   "cell_type": "code",
   "execution_count": null,
   "metadata": {},
   "outputs": [],
   "source": []
  },
  {
   "cell_type": "code",
   "execution_count": 2,
   "metadata": {},
   "outputs": [],
   "source": [
    "import os\n",
    "os.chdir('./Model')"
   ]
  },
  {
   "cell_type": "code",
   "execution_count": 3,
   "metadata": {
    "scrolled": true
   },
   "outputs": [
    {
     "name": "stdout",
     "output_type": "stream",
     "text": [
      "/home/ubuntu/anaconda3/lib/python3.6/site-packages/h5py/__init__.py:36: FutureWarning: Conversion of the second argument of issubdtype from `float` to `np.floating` is deprecated. In future, it will be treated as `np.float64 == np.dtype(float).type`.\n",
      "  from ._conv import register_converters as _register_converters\n",
      "/home/ubuntu/anaconda3/lib/python3.6/site-packages/matplotlib/__init__.py:1067: UserWarning: Duplicate key in file \"/home/ubuntu/.config/matplotlib/matplotlibrc\", line #2\n",
      "  (fname, cnt))\n",
      "/home/ubuntu/anaconda3/lib/python3.6/site-packages/matplotlib/__init__.py:1067: UserWarning: Duplicate key in file \"/home/ubuntu/.config/matplotlib/matplotlibrc\", line #3\n",
      "  (fname, cnt))\n",
      "[n_users, n_items]=[70679, 24915]\n",
      "[n_train, n_test]=[652514, 193920]\n",
      "[n_entities, n_relations, n_triples]=[113487, 39, 2557746]\n",
      "[batch_size, batch_size_kg]=[1024, 4015]\n",
      "\tconvert ratings into adj mat done.\n",
      "\tconvert 80 relational triples into adj mat done. @1.6920s\n",
      "/home/ubuntu/KGAT/Model/utility/loader_kgat.py:87: RuntimeWarning: divide by zero encountered in power\n",
      "  d_inv = np.power(rowsum, -1).flatten()\n",
      "\tgenerate si-normalized adjacency matrix.\n",
      "\treordering indices...\n",
      "\treorganize all kg data done.\n",
      "\tsort meta-data done.\n",
      "\tsort all data done.\n",
      "using xavier initialization\n",
      "#params: 12146384\n",
      "without pretraining.\n",
      "Epoch 0 [604.8s]: train==[859.26178=426.37762 + 432.61121 + 0.27467]\n",
      "Epoch 0 [604.8s + 470.5s]: train==[859.26178=426.37762 + 432.61121 + 0.27467], recall=[0.00409, 0.02132], precision=[0.00055, 0.00058], hit=[0.01074, 0.05292], ndcg=[0.00389, 0.01141]\n",
      "save the weights in path:  weights/amazon-book/kgat_si_sum_bi_l3/64-32-16/l0.0001_r1e-05-1e-05\n",
      "Epoch 1 [586.9s]: train==[591.82306=288.27846 + 303.27023 + 0.27476]\n",
      "Epoch 1 [586.9s + 452.8s]: train==[591.82306=288.27846 + 303.27023 + 0.27476], recall=[0.02486, 0.06651], precision=[0.00265, 0.00151], hit=[0.05002, 0.13040], ndcg=[0.01447, 0.02978]\n",
      "save the weights in path:  weights/amazon-book/kgat_si_sum_bi_l3/64-32-16/l0.0001_r1e-05-1e-05\n",
      "recs.shape (2, 5)\n",
      "pres.shape (2, 5)\n",
      "Best Iter=[1]@[2132.6]\trecall=[0.02486\t0.03656\t0.04760\t0.05658\t0.06651], precision=[0.00265\t0.00199\t0.00175\t0.00158\t0.00151], hit=[0.05002\t0.07296\t0.09388\t0.11122\t0.13040], ndcg=[0.01447\t0.01933\t0.02332\t0.02643\t0.02978]\n",
      "Traceback (most recent call last):\n",
      "  File \"Main.py\", line 361, in <module>\n",
      "    % (args.embed_size, args.lr, args.layer_size, args.node_dropout, args.mess_dropout, args.regs, args.loss_type, args.n_memory,\n",
      "AttributeError: 'Namespace' object has no attribute 'loss_type'\n"
     ]
    }
   ],
   "source": [
    "!python Main.py --model_type kgat --alg_type bi --dataset amazon-book \\\n",
    "                            --regs [1e-5,1e-5] --layer_size [64,32,16] --embed_size 64 --lr 0.0001 --epoch 2 \\\n",
    "                            --verbose 1 --save_flag 1 --pretrain -1 --batch_size 1024 --node_dropout [0.1] \\\n",
    "                            --mess_dropout [0.1,0.1,0.1] --use_att True --use_kge True"
   ]
  },
  {
   "cell_type": "code",
   "execution_count": null,
   "metadata": {},
   "outputs": [],
   "source": []
  }
 ],
 "metadata": {
  "kernelspec": {
   "display_name": "Python 3",
   "language": "python",
   "name": "python3"
  },
  "language_info": {
   "codemirror_mode": {
    "name": "ipython",
    "version": 3
   },
   "file_extension": ".py",
   "mimetype": "text/x-python",
   "name": "python",
   "nbconvert_exporter": "python",
   "pygments_lexer": "ipython3",
   "version": "3.6.4"
  }
 },
 "nbformat": 4,
 "nbformat_minor": 2
}
