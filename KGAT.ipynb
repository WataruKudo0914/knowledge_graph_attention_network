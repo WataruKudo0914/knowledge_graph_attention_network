{
 "cells": [
  {
   "cell_type": "markdown",
   "metadata": {},
   "source": [
    "# Minne"
   ]
  },
  {
   "cell_type": "code",
   "execution_count": 1,
   "metadata": {},
   "outputs": [],
   "source": [
    "import os\n",
    "os.chdir('./Model')"
   ]
  },
  {
   "cell_type": "code",
   "execution_count": 2,
   "metadata": {
    "scrolled": true
   },
   "outputs": [
    {
     "name": "stdout",
     "output_type": "stream",
     "text": [
      "/home/ubuntu/anaconda3/lib/python3.6/site-packages/h5py/__init__.py:36: FutureWarning: Conversion of the second argument of issubdtype from `float` to `np.floating` is deprecated. In future, it will be treated as `np.float64 == np.dtype(float).type`.\n",
      "  from ._conv import register_converters as _register_converters\n",
      "/home/ubuntu/anaconda3/lib/python3.6/site-packages/matplotlib/__init__.py:1067: UserWarning: Duplicate key in file \"/home/ubuntu/.config/matplotlib/matplotlibrc\", line #2\n",
      "  (fname, cnt))\n",
      "/home/ubuntu/anaconda3/lib/python3.6/site-packages/matplotlib/__init__.py:1067: UserWarning: Duplicate key in file \"/home/ubuntu/.config/matplotlib/matplotlibrc\", line #3\n",
      "  (fname, cnt))\n",
      "[n_users, n_items]=[35134, 48437]\n",
      "[n_train, n_test]=[1223171, 348061]\n",
      "[n_entities, n_relations, n_triples]=[50441, 2, 96874]\n",
      "[batch_size, batch_size_kg]=[1024, 81]\n",
      "\tconvert ratings into adj mat done.\n",
      "\tconvert 6 relational triples into adj mat done. @0.2226s\n",
      "/home/ubuntu/KGAT/Model/utility/loader_kgat.py:87: RuntimeWarning: divide by zero encountered in power\n",
      "  d_inv = np.power(rowsum, -1).flatten()\n",
      "\tgenerate si-normalized adjacency matrix.\n",
      "\treordering indices...\n",
      "\treorganize all kg data done.\n",
      "\tsort meta-data done.\n",
      "\tsort all data done.\n",
      "using xavier initialization\n",
      "#params: 5528720\n",
      "without pretraining.\n",
      "Epoch 0 [323.3s]: train==[1423.00159=821.55267 + 601.39258 + 0.05591]\n",
      "Epoch 1 [309.9s + 426.4s]: train==[1109.59888=638.72585 + 470.81747 + 0.05619], recall=[0.02528, 0.04919], precision=[0.00585, 0.00264], hit=[0.09515, 0.19431], ndcg=[0.03855, 0.05977]\n",
      "save the weights in path:  weights/minne/kgat_si_sum_bi_l3/64-32-16/l0.0001_r1e-05-1e-05\n",
      "Epoch 2 [314.0s]: train==[1032.46729=594.55490 + 437.85587 + 0.05633]\n",
      "Epoch 3 [310.7s + 437.0s]: train==[993.74445=580.56375 + 413.12473 + 0.05646], recall=[0.03674, 0.06721], precision=[0.00917, 0.00389], hit=[0.12025, 0.22471], ndcg=[0.05084, 0.07584]\n",
      "save the weights in path:  weights/minne/kgat_si_sum_bi_l3/64-32-16/l0.0001_r1e-05-1e-05\n",
      "Epoch 4 [321.5s]: train==[965.11340=571.58555 + 393.47021 + 0.05659]\n",
      "Epoch 5 [312.3s + 371.7s]: train==[939.53705=561.78275 + 377.69751 + 0.05676], recall=[0.03826, 0.07120], precision=[0.00952, 0.00428], hit=[0.12754, 0.24284], ndcg=[0.05372, 0.08165]\n",
      "save the weights in path:  weights/minne/kgat_si_sum_bi_l3/64-32-16/l0.0001_r1e-05-1e-05\n",
      "Epoch 6 [312.4s]: train==[915.71631=551.03251 + 364.62674 + 0.05695]\n",
      "Epoch 7 [311.1s + 405.7s]: train==[889.92542=539.36370 + 350.50638 + 0.05716], recall=[0.03755, 0.07513], precision=[0.00935, 0.00463], hit=[0.12427, 0.24990], ndcg=[0.05172, 0.08232]\n",
      "Epoch 8 [312.3s]: train==[869.32361=527.87813 + 341.38864 + 0.05740]\n",
      "Epoch 9 [314.5s + 478.2s]: train==[848.52283=516.46251 + 332.00238 + 0.05767], recall=[0.03919, 0.08074], precision=[0.01168, 0.00582], hit=[0.13155, 0.26407], ndcg=[0.05363, 0.08701]\n",
      "save the weights in path:  weights/minne/kgat_si_sum_bi_l3/64-32-16/l0.0001_r1e-05-1e-05\n",
      "Best Iter=[4]@[5278.8]\trecall=[0.03919\t0.05319\t0.06427\t0.07288\t0.08074], precision=[0.01168\t0.00871\t0.00737\t0.00644\t0.00582], hit=[0.13155\t0.17806\t0.21202\t0.23926\t0.26407], ndcg=[0.05363\t0.06537\t0.07412\t0.08094\t0.08701]\n",
      "Traceback (most recent call last):\n",
      "  File \"Main.py\", line 359, in <module>\n",
      "    % (args.embed_size, args.lr, args.layer_size, args.node_dropout, args.mess_dropout, args.regs, args.model_type, args.n_memory,\n",
      "AttributeError: 'Namespace' object has no attribute 'n_memory'\n"
     ]
    }
   ],
   "source": [
    "!python Main.py --model_type kgat --alg_type bi --dataset minne \\\n",
    "                            --regs [1e-5,1e-5] --layer_size [64,32,16] --embed_size 64 --lr 0.0001 --epoch 10 \\\n",
    "                            --verbose 1 --save_flag 1 --pretrain -1 --batch_size 1024 --node_dropout [0.1] \\\n",
    "                            --mess_dropout [0.1,0.1,0.1] --use_att True --use_kge True"
   ]
  },
  {
   "cell_type": "code",
   "execution_count": null,
   "metadata": {},
   "outputs": [],
   "source": []
  }
 ],
 "metadata": {
  "kernelspec": {
   "display_name": "Python 3",
   "language": "python",
   "name": "python3"
  },
  "language_info": {
   "codemirror_mode": {
    "name": "ipython",
    "version": 3
   },
   "file_extension": ".py",
   "mimetype": "text/x-python",
   "name": "python",
   "nbconvert_exporter": "python",
   "pygments_lexer": "ipython3",
   "version": "3.6.4"
  }
 },
 "nbformat": 4,
 "nbformat_minor": 2
}
